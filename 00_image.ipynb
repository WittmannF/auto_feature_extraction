{
 "cells": [
  {
   "cell_type": "code",
   "execution_count": null,
   "metadata": {},
   "outputs": [],
   "source": [
    "# default_exp image"
   ]
  },
  {
   "cell_type": "markdown",
   "metadata": {},
   "source": [
    "# ImageFeatureExtractor\n",
    "> Use transfer learning models to convert images into vectors with features"
   ]
  },
  {
   "cell_type": "code",
   "execution_count": null,
   "metadata": {},
   "outputs": [],
   "source": [
    "#hide\n",
    "from nbdev.showdoc import *"
   ]
  },
  {
   "cell_type": "code",
   "execution_count": null,
   "metadata": {},
   "outputs": [],
   "source": [
    "#export\n",
    "#hide_output\n",
    "# All Imports\n",
    "import pandas as pd\n",
    "import numpy as np\n",
    "import matplotlib.pyplot as plt\n",
    "import requests\n",
    "from io import BytesIO\n",
    "from PIL import Image\n",
    "from PIL import ImageFile\n",
    "import glob\n",
    "ImageFile.LOAD_TRUNCATED_IMAGES = True #https://stackoverflow.com/questions/12984426/python-pil-ioerror-image-file-truncated-with-big-images\n",
    "import os\n",
    "\n",
    "from tensorflow.keras.models import Sequential\n",
    "from tensorflow.keras.layers import Flatten, Dense, GlobalAveragePooling2D\n",
    "from tensorflow.keras.applications import resnet50\n",
    "from tensorflow.keras.applications import EfficientNetB0\n",
    "from tensorflow.keras.applications import efficientnet\n",
    "from tensorflow.keras.preprocessing.image import ImageDataGenerator\n",
    "\n",
    "import torchvision.transforms as transforms\n",
    "\n",
    "# All Parameters\n",
    "\n",
    "\n",
    "# Functions and classes\n",
    "def download_dataset(data_url, zip_filename):\n",
    "    try: # Then try downloading and unzipping it\n",
    "        print(\"Downloading Dataset...\")\n",
    "        os.system(f\"wget {data_url}\")\n",
    "\n",
    "        print(\"Unzipping Dataset\")\n",
    "        if 'tgz' in zip_filename:\n",
    "            os.system(f\"tar -xvzf {zip_filename}\")\n",
    "        else:\n",
    "            os.system(f\"unzip {zip_filename}\")\n",
    "\n",
    "        print(\"Removing .zip file\")\n",
    "        os.system(f\"rm {zip_filename}\")\n",
    "    except Exception as e: # If there's an error, ask to download manually\n",
    "        print(f\"Something went wrong. Please download the dataset manually at {data_url}\")\n",
    "        print(f'The following exception was thrown:\\n{e}')\n",
    "\n",
    "    \n",
    "class ImageFeatureExtractor():\n",
    "    def __init__(self, model_name='resnet', target_shape=(224, 224, 3)):\n",
    "        self.target_shape = target_shape\n",
    "        self.model = self._get_model(model_name)\n",
    "        self.model_name = model_name\n",
    "\n",
    "    def _center_crop_img(self, img, size=224): #using pytorch as it gives more freedom in the transformations\n",
    "        tr = transforms.Compose([\n",
    "            transforms.Resize(size),\n",
    "            transforms.CenterCrop(size),\n",
    "        ])  \n",
    "        return tr(img)\n",
    "    \n",
    "    def _preprocess_img(self, img):\n",
    "        img=self._center_crop_img(img, size=self.target_shape[0])\n",
    "        \n",
    "        # Convert to a Numpy array\n",
    "        img_np = np.asarray(img)\n",
    "\n",
    "        # Reshape by adding 1 in the beginning to be compatible as input of the model\n",
    "        img_np = img_np[None] # https://docs.scipy.org/doc/numpy/reference/arrays.indexing.html#numpy.newaxis\n",
    "\n",
    "        # Prepare the image for the model\n",
    "        img_np = self.preprocess_input(img_np)\n",
    "\n",
    "        return img_np\n",
    "\n",
    "    def _get_model(self, model_name):\n",
    "        if model_name=='resnet':\n",
    "            self.preprocess_input = resnet50.preprocess_input\n",
    "            \n",
    "            base_model = resnet50.ResNet50(include_top=False, \n",
    "                                           input_shape=self.target_shape)\n",
    "            \n",
    "            for layer in base_model.layers:\n",
    "                layer.trainable=False\n",
    "\n",
    "            model = Sequential([base_model,\n",
    "                                GlobalAveragePooling2D()])\n",
    "\n",
    "            return model\n",
    "        \n",
    "        elif model_name=='efficientnetb0':\n",
    "            self.preprocess_input = efficientnet.preprocess_input\n",
    "            base_model = EfficientNetB0(include_top=False,\n",
    "                                        input_shape=self.target_shape)\n",
    "            \n",
    "            for layer in base_model.layers:\n",
    "                layer.trainable=False\n",
    "\n",
    "            model = Sequential([base_model,\n",
    "                                GlobalAveragePooling2D()])\n",
    "\n",
    "            return model\n",
    "        \n",
    "        \n",
    "        return None\n",
    "\n",
    "    def _get_img_gen_from_df(self, dataframe, batch_size=32):\n",
    "\n",
    "        datagen = ImageDataGenerator(preprocessing_function=self.preprocess_input)\n",
    "\n",
    "        gen = datagen.flow_from_dataframe(dataframe,\n",
    "                                          batch_size=batch_size,\n",
    "                                          target_size=self.target_shape[:2], \n",
    "                                          class_mode=None,\n",
    "                                          shuffle=False)\n",
    "        return gen\n",
    "\n",
    "    def _get_img_gen(self, folder_path, batch_size=32):\n",
    "        datagen = ImageDataGenerator(preprocessing_function=self.preprocess_input)\n",
    "        gen = datagen.flow_from_directory(folder_path,\n",
    "                                          batch_size=batch_size,\n",
    "                                          target_size=self.target_shape[:2], \n",
    "                                          class_mode='sparse',\n",
    "                                          shuffle=False)\n",
    "        return gen\n",
    "    \n",
    "    def _assert_df_size(self, dataframe):\n",
    "        assert len(dataframe)>0, \"Folder not found or does not have images. If there's one folder per class, please make sure to set classes_as_folders to True\"\n",
    "\n",
    "    def read_img_url(self, url, center_crop=True):\n",
    "        response = requests.get(url)\n",
    "        img = Image.open(BytesIO(response.content))\n",
    "        if center_crop:\n",
    "            img = self._center_crop_img(img, size=self.target_shape[0])\n",
    "        return img\n",
    "    \n",
    "    def read_img_path(self, img_path, center_crop=True):\n",
    "        img = image.load_img(img_path)\n",
    "        if center_crop:\n",
    "            img = self._center_crop_img(img, size=self.target_shape[0])\n",
    "        return img\n",
    "    \n",
    "    def url_to_vector(self, url):\n",
    "        img = self.read_img_url(url)\n",
    "        vector = self.img_to_vector(img)\n",
    "        return vector\n",
    "    \n",
    "    def img_path_to_vector(self, img_path):\n",
    "        img = self.read_img_path(img_path)\n",
    "        vector = self.img_to_vector(img)\n",
    "        return vector\n",
    "    \n",
    "    def img_to_vector(self, img):\n",
    "        img_np = self._preprocess_img(img)\n",
    "        vector = self.model.predict(img_np)\n",
    "        return vector\n",
    "\n",
    "    def _get_gen(self, classes_as_folders, directory, batch_size):\n",
    "        if classes_as_folders:\n",
    "            gen = self._get_img_gen(directory, batch_size)\n",
    "        else:\n",
    "            filepaths = glob.glob(directory+'/*.*')\n",
    "            self.dataframe=pd.DataFrame(filepaths, \n",
    "                                        columns=['filename'])\n",
    "            self._assert_df_size(self.dataframe)\n",
    "            gen = self._get_img_gen_from_df(self.dataframe, \n",
    "                                            batch_size)\n",
    "        return gen\n",
    "\n",
    "    def _vectors_to_df(self, all_vectors, classes_as_folders, export_class_names):\n",
    "        vectors_df=pd.DataFrame(all_vectors)\n",
    "        vectors_df.insert(loc=0, column='filepaths', value=self.gen.filepaths)\n",
    "        if classes_as_folders and export_class_names:\n",
    "            vectors_df.insert(loc=1, column='classes', value=self.gen.classes)\n",
    "            id_to_class = {v: k for k, v in self.gen.class_indices.items()}\n",
    "            vectors_df.classes=vectors_df.classes.apply(lambda x: id_to_class[x])\n",
    "        return vectors_df\n",
    "    \n",
    "    def extract_features_from_directory(self, \n",
    "                                        directory, \n",
    "                                        batch_size=32, \n",
    "                                        classes_as_folders=True, \n",
    "                                        export_class_names=False,\n",
    "                                        export_vectors_as_df=True):\n",
    "        # Get image generator\n",
    "        self.gen = self._get_gen(classes_as_folders, directory, batch_size)\n",
    "        \n",
    "        # Extract features into vectors\n",
    "        self.all_vectors=self.model.predict(self.gen, verbose=1)\n",
    "        \n",
    "        # Either return vectors or everything as dataframes\n",
    "        if not export_vectors_as_df:\n",
    "            return self.all_vectors\n",
    "        else:\n",
    "            vectors_df = self._vectors_to_df(self.all_vectors, classes_as_folders, export_class_names)\n",
    "            return vectors_df\n",
    "\n",
    "    def vectors_from_folder_list(self, folder_list):\n",
    "        df_list = []\n",
    "        for folder_path in folder_list:\n",
    "            df=self.img_folder_to_vectors(folder_path)\n",
    "            df_list.append(df)\n",
    "        return pd.concat(df_list)\n"
   ]
  },
  {
   "cell_type": "markdown",
   "metadata": {},
   "source": [
    "## Converting Image to Vector"
   ]
  },
  {
   "cell_type": "code",
   "execution_count": null,
   "metadata": {},
   "outputs": [
    {
     "name": "stdout",
     "output_type": "stream",
     "text": [
      "Downloading data from https://storage.googleapis.com/keras-applications/efficientnetb0_notop.h5\n",
      "16711680/16705208 [==============================] - 1s 0us/step\n",
      "16719872/16705208 [==============================] - 1s 0us/step\n"
     ]
    },
    {
     "data": {
      "image/png": "[encoded data removed]",
      "text/plain": [
       "<PIL.Image.Image image mode=RGB size=224x224 at 0x10FCF4D00>"
      ]
     },
     "execution_count": null,
     "metadata": {},
     "output_type": "execute_result"
    }
   ],
   "source": [
    "ife = ImageFeatureExtractor(model_name='efficientnetb0')\n",
    "url='https://raw.githubusercontent.com/WittmannF/ImageDataGenerator-example/master/flow_from_dataframe/train/cat.101.jpg'\n",
    "img=ife.read_img_url(url)\n",
    "img"
   ]
  },
  {
   "cell_type": "code",
   "execution_count": null,
   "metadata": {},
   "outputs": [
    {
     "name": "stdout",
     "output_type": "stream",
     "text": [
      "Model: \"sequential_1\"\n",
      "_________________________________________________________________\n",
      "Layer (type)                 Output Shape              Param #   \n",
      "=================================================================\n",
      "efficientnetb0 (Functional)  (None, 7, 7, 1280)        4049571   \n",
      "_________________________________________________________________\n",
      "global_average_pooling2d_1 ( (None, 1280)              0         \n",
      "=================================================================\n",
      "Total params: 4,049,571\n",
      "Trainable params: 0\n",
      "Non-trainable params: 4,049,571\n",
      "_________________________________________________________________\n"
     ]
    }
   ],
   "source": [
    "ife.model.summary()"
   ]
  },
  {
   "cell_type": "code",
   "execution_count": null,
   "metadata": {},
   "outputs": [
    {
     "data": {
      "text/plain": [
       "array([[-0.01482432, -0.05527921,  0.23075758, ...,  0.53876066,\n",
       "         0.51287   , -0.053831  ]], dtype=float32)"
      ]
     },
     "execution_count": null,
     "metadata": {},
     "output_type": "execute_result"
    }
   ],
   "source": [
    "vector=ife.img_to_vector(img)\n",
    "vector"
   ]
  },
  {
   "cell_type": "code",
   "execution_count": null,
   "metadata": {},
   "outputs": [
    {
     "data": {
      "text/plain": [
       "(1, 1280)"
      ]
     },
     "execution_count": null,
     "metadata": {},
     "output_type": "execute_result"
    }
   ],
   "source": [
    "vector.shape"
   ]
  },
  {
   "cell_type": "code",
   "execution_count": null,
   "metadata": {},
   "outputs": [
    {
     "name": "stdout",
     "output_type": "stream",
     "text": [
      "Found 128 validated image filenames.\n"
     ]
    },
    {
     "name": "stderr",
     "output_type": "stream",
     "text": [
      "2021-10-06 11:18:14.455687: I tensorflow/core/grappler/optimizers/custom_graph_optimizer_registry.cc:112] Plugin optimizer for device_type GPU is enabled.\n"
     ]
    },
    {
     "name": "stdout",
     "output_type": "stream",
     "text": [
      "4/4 [==============================] - 2s 179ms/step\n"
     ]
    },
    {
     "data": {
      "text/html": [
       "<div>\n",
       "<style scoped>\n",
       "    .dataframe tbody tr th:only-of-type {\n",
       "        vertical-align: middle;\n",
       "    }\n",
       "\n",
       "    .dataframe tbody tr th {\n",
       "        vertical-align: top;\n",
       "    }\n",
       "\n",
       "    .dataframe thead th {\n",
       "        text-align: right;\n",
       "    }\n",
       "</style>\n",
       "<table border=\"1\" class=\"dataframe\">\n",
       "  <thead>\n",
       "    <tr style=\"text-align: right;\">\n",
       "      <th></th>\n",
       "      <th>filepaths</th>\n",
       "      <th>0</th>\n",
       "      <th>1</th>\n",
       "      <th>2</th>\n",
       "      <th>3</th>\n",
       "      <th>4</th>\n",
       "      <th>5</th>\n",
       "      <th>6</th>\n",
       "      <th>7</th>\n",
       "      <th>8</th>\n",
       "      <th>...</th>\n",
       "      <th>1270</th>\n",
       "      <th>1271</th>\n",
       "      <th>1272</th>\n",
       "      <th>1273</th>\n",
       "      <th>1274</th>\n",
       "      <th>1275</th>\n",
       "      <th>1276</th>\n",
       "      <th>1277</th>\n",
       "      <th>1278</th>\n",
       "      <th>1279</th>\n",
       "    </tr>\n",
       "  </thead>\n",
       "  <tbody>\n",
       "    <tr>\n",
       "      <th>0</th>\n",
       "      <td>./sample_data/cats_vs_dogs/train/cat/cat.6.jpg</td>\n",
       "      <td>0.225212</td>\n",
       "      <td>0.058640</td>\n",
       "      <td>-0.095501</td>\n",
       "      <td>-0.073367</td>\n",
       "      <td>1.321245</td>\n",
       "      <td>0.074913</td>\n",
       "      <td>0.470487</td>\n",
       "      <td>-0.012128</td>\n",
       "      <td>0.598165</td>\n",
       "      <td>...</td>\n",
       "      <td>-0.112729</td>\n",
       "      <td>-0.122853</td>\n",
       "      <td>0.436117</td>\n",
       "      <td>-0.026819</td>\n",
       "      <td>-0.091265</td>\n",
       "      <td>0.064628</td>\n",
       "      <td>0.315744</td>\n",
       "      <td>-0.017118</td>\n",
       "      <td>-0.146257</td>\n",
       "      <td>0.295975</td>\n",
       "    </tr>\n",
       "    <tr>\n",
       "      <th>1</th>\n",
       "      <td>./sample_data/cats_vs_dogs/train/cat/cat.30.jpg</td>\n",
       "      <td>0.202250</td>\n",
       "      <td>0.160452</td>\n",
       "      <td>0.557351</td>\n",
       "      <td>-0.085632</td>\n",
       "      <td>-0.105077</td>\n",
       "      <td>0.298232</td>\n",
       "      <td>0.134021</td>\n",
       "      <td>0.112814</td>\n",
       "      <td>-0.054420</td>\n",
       "      <td>...</td>\n",
       "      <td>0.039416</td>\n",
       "      <td>-0.137677</td>\n",
       "      <td>0.114761</td>\n",
       "      <td>0.092318</td>\n",
       "      <td>0.287135</td>\n",
       "      <td>0.156551</td>\n",
       "      <td>-0.152136</td>\n",
       "      <td>0.054678</td>\n",
       "      <td>-0.113809</td>\n",
       "      <td>-0.012793</td>\n",
       "    </tr>\n",
       "    <tr>\n",
       "      <th>2</th>\n",
       "      <td>./sample_data/cats_vs_dogs/train/cat/cat.24.jpg</td>\n",
       "      <td>0.200531</td>\n",
       "      <td>-0.030708</td>\n",
       "      <td>-0.143709</td>\n",
       "      <td>-0.012947</td>\n",
       "      <td>-0.012103</td>\n",
       "      <td>0.094327</td>\n",
       "      <td>-0.082119</td>\n",
       "      <td>-0.095636</td>\n",
       "      <td>0.067225</td>\n",
       "      <td>...</td>\n",
       "      <td>-0.033623</td>\n",
       "      <td>-0.080547</td>\n",
       "      <td>0.466413</td>\n",
       "      <td>0.051606</td>\n",
       "      <td>0.061862</td>\n",
       "      <td>-0.129659</td>\n",
       "      <td>-0.135904</td>\n",
       "      <td>0.200370</td>\n",
       "      <td>-0.130808</td>\n",
       "      <td>-0.067054</td>\n",
       "    </tr>\n",
       "    <tr>\n",
       "      <th>3</th>\n",
       "      <td>./sample_data/cats_vs_dogs/train/cat/cat.18.jpg</td>\n",
       "      <td>0.230099</td>\n",
       "      <td>0.081425</td>\n",
       "      <td>0.335069</td>\n",
       "      <td>-0.099280</td>\n",
       "      <td>0.002416</td>\n",
       "      <td>-0.154609</td>\n",
       "      <td>-0.161813</td>\n",
       "      <td>-0.096908</td>\n",
       "      <td>-0.139070</td>\n",
       "      <td>...</td>\n",
       "      <td>0.028308</td>\n",
       "      <td>-0.209473</td>\n",
       "      <td>-0.039060</td>\n",
       "      <td>-0.077227</td>\n",
       "      <td>-0.084279</td>\n",
       "      <td>-0.004354</td>\n",
       "      <td>0.241149</td>\n",
       "      <td>-0.130906</td>\n",
       "      <td>0.188262</td>\n",
       "      <td>-0.114258</td>\n",
       "    </tr>\n",
       "    <tr>\n",
       "      <th>4</th>\n",
       "      <td>./sample_data/cats_vs_dogs/train/cat/cat.19.jpg</td>\n",
       "      <td>0.070455</td>\n",
       "      <td>-0.092657</td>\n",
       "      <td>-0.064933</td>\n",
       "      <td>-0.109489</td>\n",
       "      <td>-0.021460</td>\n",
       "      <td>-0.124329</td>\n",
       "      <td>0.626454</td>\n",
       "      <td>0.006053</td>\n",
       "      <td>-0.146398</td>\n",
       "      <td>...</td>\n",
       "      <td>-0.028919</td>\n",
       "      <td>-0.058245</td>\n",
       "      <td>-0.126074</td>\n",
       "      <td>-0.084243</td>\n",
       "      <td>-0.021173</td>\n",
       "      <td>0.039658</td>\n",
       "      <td>-0.139905</td>\n",
       "      <td>0.121402</td>\n",
       "      <td>-0.110747</td>\n",
       "      <td>0.217937</td>\n",
       "    </tr>\n",
       "  </tbody>\n",
       "</table>\n",
       "<p>5 rows × 1281 columns</p>\n",
       "</div>"
      ],
      "text/plain": [
       "                                         filepaths         0         1  \\\n",
       "0   ./sample_data/cats_vs_dogs/train/cat/cat.6.jpg  0.225212  0.058640   \n",
       "1  ./sample_data/cats_vs_dogs/train/cat/cat.30.jpg  0.202250  0.160452   \n",
       "2  ./sample_data/cats_vs_dogs/train/cat/cat.24.jpg  0.200531 -0.030708   \n",
       "3  ./sample_data/cats_vs_dogs/train/cat/cat.18.jpg  0.230099  0.081425   \n",
       "4  ./sample_data/cats_vs_dogs/train/cat/cat.19.jpg  0.070455 -0.092657   \n",
       "\n",
       "          2         3         4         5         6         7         8  ...  \\\n",
       "0 -0.095501 -0.073367  1.321245  0.074913  0.470487 -0.012128  0.598165  ...   \n",
       "1  0.557351 -0.085632 -0.105077  0.298232  0.134021  0.112814 -0.054420  ...   \n",
       "2 -0.143709 -0.012947 -0.012103  0.094327 -0.082119 -0.095636  0.067225  ...   \n",
       "3  0.335069 -0.099280  0.002416 -0.154609 -0.161813 -0.096908 -0.139070  ...   \n",
       "4 -0.064933 -0.109489 -0.021460 -0.124329  0.626454  0.006053 -0.146398  ...   \n",
       "\n",
       "       1270      1271      1272      1273      1274      1275      1276  \\\n",
       "0 -0.112729 -0.122853  0.436117 -0.026819 -0.091265  0.064628  0.315744   \n",
       "1  0.039416 -0.137677  0.114761  0.092318  0.287135  0.156551 -0.152136   \n",
       "2 -0.033623 -0.080547  0.466413  0.051606  0.061862 -0.129659 -0.135904   \n",
       "3  0.028308 -0.209473 -0.039060 -0.077227 -0.084279 -0.004354  0.241149   \n",
       "4 -0.028919 -0.058245 -0.126074 -0.084243 -0.021173  0.039658 -0.139905   \n",
       "\n",
       "       1277      1278      1279  \n",
       "0 -0.017118 -0.146257  0.295975  \n",
       "1  0.054678 -0.113809 -0.012793  \n",
       "2  0.200370 -0.130808 -0.067054  \n",
       "3 -0.130906  0.188262 -0.114258  \n",
       "4  0.121402 -0.110747  0.217937  \n",
       "\n",
       "[5 rows x 1281 columns]"
      ]
     },
     "execution_count": null,
     "metadata": {},
     "output_type": "execute_result"
    }
   ],
   "source": [
    "df=ife.extract_features_from_directory('./sample_data/cats_vs_dogs/train/cat',\n",
    "                                       classes_as_folders=False)\n",
    "df.head()"
   ]
  },
  {
   "cell_type": "code",
   "execution_count": null,
   "metadata": {},
   "outputs": [
    {
     "name": "stdout",
     "output_type": "stream",
     "text": [
      "Found 256 images belonging to 2 classes.\n"
     ]
    },
    {
     "name": "stderr",
     "output_type": "stream",
     "text": [
      "2021-10-06 11:18:18.266867: I tensorflow/core/grappler/optimizers/custom_graph_optimizer_registry.cc:112] Plugin optimizer for device_type GPU is enabled.\n"
     ]
    },
    {
     "name": "stdout",
     "output_type": "stream",
     "text": [
      "8/8 [==============================] - 2s 213ms/step\n"
     ]
    },
    {
     "data": {
      "text/html": [
       "<div>\n",
       "<style scoped>\n",
       "    .dataframe tbody tr th:only-of-type {\n",
       "        vertical-align: middle;\n",
       "    }\n",
       "\n",
       "    .dataframe tbody tr th {\n",
       "        vertical-align: top;\n",
       "    }\n",
       "\n",
       "    .dataframe thead th {\n",
       "        text-align: right;\n",
       "    }\n",
       "</style>\n",
       "<table border=\"1\" class=\"dataframe\">\n",
       "  <thead>\n",
       "    <tr style=\"text-align: right;\">\n",
       "      <th></th>\n",
       "      <th>filepaths</th>\n",
       "      <th>classes</th>\n",
       "      <th>0</th>\n",
       "      <th>1</th>\n",
       "      <th>2</th>\n",
       "      <th>3</th>\n",
       "      <th>4</th>\n",
       "      <th>5</th>\n",
       "      <th>6</th>\n",
       "      <th>7</th>\n",
       "      <th>...</th>\n",
       "      <th>1270</th>\n",
       "      <th>1271</th>\n",
       "      <th>1272</th>\n",
       "      <th>1273</th>\n",
       "      <th>1274</th>\n",
       "      <th>1275</th>\n",
       "      <th>1276</th>\n",
       "      <th>1277</th>\n",
       "      <th>1278</th>\n",
       "      <th>1279</th>\n",
       "    </tr>\n",
       "  </thead>\n",
       "  <tbody>\n",
       "    <tr>\n",
       "      <th>0</th>\n",
       "      <td>./sample_data/cats_vs_dogs/train/cat/cat.0.jpg</td>\n",
       "      <td>cat</td>\n",
       "      <td>0.456551</td>\n",
       "      <td>-0.036920</td>\n",
       "      <td>-0.117857</td>\n",
       "      <td>-0.120442</td>\n",
       "      <td>0.090476</td>\n",
       "      <td>0.630952</td>\n",
       "      <td>0.282625</td>\n",
       "      <td>-0.117053</td>\n",
       "      <td>...</td>\n",
       "      <td>0.020791</td>\n",
       "      <td>-0.032444</td>\n",
       "      <td>0.279972</td>\n",
       "      <td>-0.100614</td>\n",
       "      <td>0.126624</td>\n",
       "      <td>-0.144146</td>\n",
       "      <td>-0.138254</td>\n",
       "      <td>0.226428</td>\n",
       "      <td>-0.159525</td>\n",
       "      <td>-0.007993</td>\n",
       "    </tr>\n",
       "    <tr>\n",
       "      <th>1</th>\n",
       "      <td>./sample_data/cats_vs_dogs/train/cat/cat.1.jpg</td>\n",
       "      <td>cat</td>\n",
       "      <td>0.087864</td>\n",
       "      <td>-0.109384</td>\n",
       "      <td>-0.148388</td>\n",
       "      <td>0.087301</td>\n",
       "      <td>-0.108840</td>\n",
       "      <td>-0.112653</td>\n",
       "      <td>-0.105029</td>\n",
       "      <td>-0.191852</td>\n",
       "      <td>...</td>\n",
       "      <td>-0.097658</td>\n",
       "      <td>-0.096658</td>\n",
       "      <td>-0.108985</td>\n",
       "      <td>-0.061243</td>\n",
       "      <td>0.043187</td>\n",
       "      <td>0.166429</td>\n",
       "      <td>-0.119754</td>\n",
       "      <td>0.636140</td>\n",
       "      <td>-0.167608</td>\n",
       "      <td>-0.118658</td>\n",
       "    </tr>\n",
       "    <tr>\n",
       "      <th>2</th>\n",
       "      <td>./sample_data/cats_vs_dogs/train/cat/cat.10.jpg</td>\n",
       "      <td>cat</td>\n",
       "      <td>0.023569</td>\n",
       "      <td>0.194844</td>\n",
       "      <td>-0.012433</td>\n",
       "      <td>-0.037307</td>\n",
       "      <td>-0.084910</td>\n",
       "      <td>-0.033898</td>\n",
       "      <td>0.274007</td>\n",
       "      <td>-0.135142</td>\n",
       "      <td>...</td>\n",
       "      <td>-0.079801</td>\n",
       "      <td>-0.182763</td>\n",
       "      <td>0.060846</td>\n",
       "      <td>-0.094208</td>\n",
       "      <td>0.043399</td>\n",
       "      <td>0.149070</td>\n",
       "      <td>-0.105733</td>\n",
       "      <td>-0.118275</td>\n",
       "      <td>-0.087090</td>\n",
       "      <td>0.005981</td>\n",
       "    </tr>\n",
       "    <tr>\n",
       "      <th>3</th>\n",
       "      <td>./sample_data/cats_vs_dogs/train/cat/cat.100.jpg</td>\n",
       "      <td>cat</td>\n",
       "      <td>0.059996</td>\n",
       "      <td>0.440460</td>\n",
       "      <td>-0.110263</td>\n",
       "      <td>-0.148372</td>\n",
       "      <td>-0.152904</td>\n",
       "      <td>-0.107543</td>\n",
       "      <td>-0.065826</td>\n",
       "      <td>-0.107320</td>\n",
       "      <td>...</td>\n",
       "      <td>-0.064428</td>\n",
       "      <td>-0.170988</td>\n",
       "      <td>0.088787</td>\n",
       "      <td>-0.104232</td>\n",
       "      <td>0.347278</td>\n",
       "      <td>0.661745</td>\n",
       "      <td>-0.055814</td>\n",
       "      <td>-0.098556</td>\n",
       "      <td>-0.202804</td>\n",
       "      <td>-0.133524</td>\n",
       "    </tr>\n",
       "    <tr>\n",
       "      <th>4</th>\n",
       "      <td>./sample_data/cats_vs_dogs/train/cat/cat.101.jpg</td>\n",
       "      <td>cat</td>\n",
       "      <td>-0.041377</td>\n",
       "      <td>-0.043872</td>\n",
       "      <td>0.098374</td>\n",
       "      <td>-0.107689</td>\n",
       "      <td>0.156048</td>\n",
       "      <td>0.118467</td>\n",
       "      <td>-0.022955</td>\n",
       "      <td>-0.158435</td>\n",
       "      <td>...</td>\n",
       "      <td>-0.037849</td>\n",
       "      <td>-0.118383</td>\n",
       "      <td>0.009495</td>\n",
       "      <td>-0.067195</td>\n",
       "      <td>0.145152</td>\n",
       "      <td>0.102556</td>\n",
       "      <td>-0.114290</td>\n",
       "      <td>0.040539</td>\n",
       "      <td>0.178128</td>\n",
       "      <td>-0.122962</td>\n",
       "    </tr>\n",
       "  </tbody>\n",
       "</table>\n",
       "<p>5 rows × 1282 columns</p>\n",
       "</div>"
      ],
      "text/plain": [
       "                                          filepaths classes         0  \\\n",
       "0    ./sample_data/cats_vs_dogs/train/cat/cat.0.jpg     cat  0.456551   \n",
       "1    ./sample_data/cats_vs_dogs/train/cat/cat.1.jpg     cat  0.087864   \n",
       "2   ./sample_data/cats_vs_dogs/train/cat/cat.10.jpg     cat  0.023569   \n",
       "3  ./sample_data/cats_vs_dogs/train/cat/cat.100.jpg     cat  0.059996   \n",
       "4  ./sample_data/cats_vs_dogs/train/cat/cat.101.jpg     cat -0.041377   \n",
       "\n",
       "          1         2         3         4         5         6         7  ...  \\\n",
       "0 -0.036920 -0.117857 -0.120442  0.090476  0.630952  0.282625 -0.117053  ...   \n",
       "1 -0.109384 -0.148388  0.087301 -0.108840 -0.112653 -0.105029 -0.191852  ...   \n",
       "2  0.194844 -0.012433 -0.037307 -0.084910 -0.033898  0.274007 -0.135142  ...   \n",
       "3  0.440460 -0.110263 -0.148372 -0.152904 -0.107543 -0.065826 -0.107320  ...   \n",
       "4 -0.043872  0.098374 -0.107689  0.156048  0.118467 -0.022955 -0.158435  ...   \n",
       "\n",
       "       1270      1271      1272      1273      1274      1275      1276  \\\n",
       "0  0.020791 -0.032444  0.279972 -0.100614  0.126624 -0.144146 -0.138254   \n",
       "1 -0.097658 -0.096658 -0.108985 -0.061243  0.043187  0.166429 -0.119754   \n",
       "2 -0.079801 -0.182763  0.060846 -0.094208  0.043399  0.149070 -0.105733   \n",
       "3 -0.064428 -0.170988  0.088787 -0.104232  0.347278  0.661745 -0.055814   \n",
       "4 -0.037849 -0.118383  0.009495 -0.067195  0.145152  0.102556 -0.114290   \n",
       "\n",
       "       1277      1278      1279  \n",
       "0  0.226428 -0.159525 -0.007993  \n",
       "1  0.636140 -0.167608 -0.118658  \n",
       "2 -0.118275 -0.087090  0.005981  \n",
       "3 -0.098556 -0.202804 -0.133524  \n",
       "4  0.040539  0.178128 -0.122962  \n",
       "\n",
       "[5 rows x 1282 columns]"
      ]
     },
     "execution_count": null,
     "metadata": {},
     "output_type": "execute_result"
    }
   ],
   "source": [
    "df=ife.extract_features_from_directory('./sample_data/cats_vs_dogs/train',\n",
    "                                       export_class_names=True,\n",
    "                                       classes_as_folders=True)\n",
    "df.head()"
   ]
  },
  {
   "cell_type": "markdown",
   "metadata": {},
   "source": [
    "## Training a ML Model"
   ]
  },
  {
   "cell_type": "code",
   "execution_count": null,
   "metadata": {},
   "outputs": [
    {
     "name": "stdout",
     "output_type": "stream",
     "text": [
      "Found 64 images belonging to 2 classes.\n",
      "2/2 [==============================] - 0s 231ms/step\n"
     ]
    }
   ],
   "source": [
    "train=df\n",
    "\n",
    "test=ife.extract_features_from_directory('./sample_data/cats_vs_dogs/valid',\n",
    "                                         export_class_names=True,\n",
    "                                         classes_as_folders=True)"
   ]
  },
  {
   "cell_type": "code",
   "execution_count": null,
   "metadata": {},
   "outputs": [],
   "source": [
    "X_train, y_train = train.drop(['filepaths', 'classes'], axis=1), train['classes']"
   ]
  },
  {
   "cell_type": "code",
   "execution_count": null,
   "metadata": {},
   "outputs": [],
   "source": [
    "X_test, y_test = test.drop(['filepaths', 'classes'], axis=1), test['classes']"
   ]
  },
  {
   "cell_type": "code",
   "execution_count": null,
   "metadata": {},
   "outputs": [],
   "source": [
    "from sklearn.linear_model import LogisticRegression\n",
    "lr=LogisticRegression().fit(X_train, y_train)"
   ]
  },
  {
   "cell_type": "code",
   "execution_count": null,
   "metadata": {},
   "outputs": [
    {
     "data": {
      "text/plain": [
       "1.0"
      ]
     },
     "execution_count": null,
     "metadata": {},
     "output_type": "execute_result"
    }
   ],
   "source": [
    "lr.score(X_test, y_test)"
   ]
  },
  {
   "cell_type": "code",
   "execution_count": null,
   "metadata": {},
   "outputs": [
    {
     "data": {
      "text/plain": [
       "1.0"
      ]
     },
     "execution_count": null,
     "metadata": {},
     "output_type": "execute_result"
    }
   ],
   "source": [
    "from sklearn.metrics import confusion_matrix, classification_report, roc_auc_score\n",
    "roc_auc_score(y_test, lr.predict_proba(X_test)[:, 1])"
   ]
  },
  {
   "cell_type": "code",
   "execution_count": null,
   "metadata": {},
   "outputs": [
    {
     "data": {
      "text/plain": [
       "<AxesSubplot:>"
      ]
     },
     "execution_count": null,
     "metadata": {},
     "output_type": "execute_result"
    },
    {
     "data": {
      "image/png": "[encoded data removed]",
      "text/plain": [
       "<Figure size 432x288 with 2 Axes>"
      ]
     },
     "metadata": {
      "needs_background": "light"
     },
     "output_type": "display_data"
    }
   ],
   "source": [
    "import seaborn as sns\n",
    "y_pred=lr.predict(X_test)\n",
    "sns.heatmap(confusion_matrix(y_test, y_pred), \n",
    "            annot=True, \n",
    "            xticklabels=lr.classes_,\n",
    "            yticklabels=lr.classes_)"
   ]
  },
  {
   "cell_type": "markdown",
   "metadata": {},
   "source": [
    "## Customizing Model"
   ]
  },
  {
   "cell_type": "code",
   "execution_count": null,
   "metadata": {},
   "outputs": [],
   "source": [
    "ife = ImageFeatureExtractor(model_name=None)\n"
   ]
  },
  {
   "cell_type": "code",
   "execution_count": null,
   "metadata": {},
   "outputs": [
    {
     "name": "stdout",
     "output_type": "stream",
     "text": [
      "Downloading data from https://storage.googleapis.com/tensorflow/keras-applications/vgg16/vgg16_weights_tf_dim_ordering_tf_kernels_notop.h5\n",
      "58892288/58889256 [==============================] - 2s 0us/step\n",
      "58900480/58889256 [==============================] - 2s 0us/step\n"
     ]
    }
   ],
   "source": [
    "from tensorflow.keras.applications.vgg16 import VGG16\n",
    "from tensorflow.keras.applications.vgg16 import preprocess_input\n",
    "\n",
    "model=VGG16(weights='imagenet', include_top=False)\n",
    "ife.model=model\n",
    "ife.preprocess_input=preprocess_input"
   ]
  },
  {
   "cell_type": "code",
   "execution_count": null,
   "metadata": {},
   "outputs": [
    {
     "name": "stderr",
     "output_type": "stream",
     "text": [
      "2021-10-06 11:22:24.688204: I tensorflow/core/grappler/optimizers/custom_graph_optimizer_registry.cc:112] Plugin optimizer for device_type GPU is enabled.\n"
     ]
    }
   ],
   "source": [
    "vector=ife.img_to_vector(img)"
   ]
  },
  {
   "cell_type": "code",
   "execution_count": null,
   "metadata": {},
   "outputs": [
    {
     "data": {
      "text/plain": [
       "(1, 7, 7, 512)"
      ]
     },
     "execution_count": null,
     "metadata": {},
     "output_type": "execute_result"
    }
   ],
   "source": [
    "vector.shape"
   ]
  },
  {
   "cell_type": "code",
   "execution_count": null,
   "metadata": {},
   "outputs": [
    {
     "name": "stdout",
     "output_type": "stream",
     "text": [
      "Found 128 validated image filenames.\n"
     ]
    },
    {
     "name": "stderr",
     "output_type": "stream",
     "text": [
      "2021-10-06 11:22:31.246580: I tensorflow/core/grappler/optimizers/custom_graph_optimizer_registry.cc:112] Plugin optimizer for device_type GPU is enabled.\n"
     ]
    },
    {
     "name": "stdout",
     "output_type": "stream",
     "text": [
      "4/4 [==============================] - 2s 604ms/step\n"
     ]
    },
    {
     "data": {
      "text/plain": [
       "(128, 7, 7, 512)"
      ]
     },
     "execution_count": null,
     "metadata": {},
     "output_type": "execute_result"
    }
   ],
   "source": [
    "features=ife.extract_features_from_directory('./sample_data/cats_vs_dogs/train/cat',\n",
    "                                            classes_as_folders=False,\n",
    "                                            export_vectors_as_df=False)\n",
    "features.shape"
   ]
  },
  {
   "cell_type": "code",
   "execution_count": null,
   "metadata": {},
   "outputs": [
    {
     "name": "stdout",
     "output_type": "stream",
     "text": [
      "Downloading data from https://storage.googleapis.com/tensorflow/keras-applications/vgg19/vgg19_weights_tf_dim_ordering_tf_kernels.h5\n",
      "574717952/574710816 [==============================] - 23s 0us/step\n",
      "574726144/574710816 [==============================] - 23s 0us/step\n"
     ]
    }
   ],
   "source": [
    "from tensorflow.keras.applications.vgg19 import VGG19\n",
    "from tensorflow.keras.preprocessing import image\n",
    "from tensorflow.keras.applications.vgg19 import preprocess_input\n",
    "from tensorflow.keras.models import Model\n",
    "import numpy as np\n",
    "\n",
    "base_model = VGG19(weights='imagenet')\n",
    "model = Model(inputs=base_model.input, outputs=base_model.get_layer('fc2').output)\n",
    "ife.model=model\n",
    "ife.preprocess_input=preprocess_input"
   ]
  },
  {
   "cell_type": "code",
   "execution_count": null,
   "metadata": {},
   "outputs": [
    {
     "name": "stderr",
     "output_type": "stream",
     "text": [
      "2021-10-06 11:23:04.827308: I tensorflow/core/grappler/optimizers/custom_graph_optimizer_registry.cc:112] Plugin optimizer for device_type GPU is enabled.\n"
     ]
    },
    {
     "data": {
      "text/plain": [
       "array([[0.       , 0.       , 2.0117116, ..., 0.       , 0.       ,\n",
       "        0.       ]], dtype=float32)"
      ]
     },
     "execution_count": null,
     "metadata": {},
     "output_type": "execute_result"
    }
   ],
   "source": [
    "vector=ife.img_to_vector(img)\n",
    "vector"
   ]
  },
  {
   "cell_type": "code",
   "execution_count": null,
   "metadata": {},
   "outputs": [
    {
     "data": {
      "text/plain": [
       "(1, 4096)"
      ]
     },
     "execution_count": null,
     "metadata": {},
     "output_type": "execute_result"
    }
   ],
   "source": [
    "vector.shape"
   ]
  },
  {
   "cell_type": "markdown",
   "metadata": {},
   "source": [
    "### Things to consider changing\n",
    "- Load image method from pytorch to keras\n",
    "  - Problem: cant control the preprocessing method, images are resized instead of a center-crop method\n",
    "  - Advantage: Remove dependency of pytorch, also, images that are loaded from folder will be preprocessed by keras anyway\n",
    "  - Decision: Keep both, no big deal having extra dependency\n",
    "\n",
    "- update `extract_features_from_directory` to `img_folder_to_vectors`\n",
    "  - this way naming will be more consistent\n",
    "      - However, examples will have to be updated\n",
    "  - extract_features vs xxx_to_vectors vs xx_to_embedding vs directory_to_vectors"
   ]
  },
  {
   "cell_type": "code",
   "execution_count": null,
   "metadata": {},
   "outputs": [
    {
     "name": "stdout",
     "output_type": "stream",
     "text": [
      "https://nbdev.fast.ai/example.html\r\n",
      "\r\n",
      "Things missing:\r\n",
      "- Review naming terminology\r\n",
      "- Updateextract_features_from_directory to from_directory\r\n",
      "- include_classes-> export_classes\r\n"
     ]
    }
   ],
   "source": [
    "!cat notes.txt"
   ]
  },
  {
   "cell_type": "code",
   "execution_count": null,
   "metadata": {},
   "outputs": [],
   "source": []
  }
 ],
 "metadata": {
  "kernelspec": {
   "display_name": "Python 3 (ipykernel)",
   "language": "python",
   "name": "python3"
  }
 },
 "nbformat": 4,
 "nbformat_minor": 1
}
