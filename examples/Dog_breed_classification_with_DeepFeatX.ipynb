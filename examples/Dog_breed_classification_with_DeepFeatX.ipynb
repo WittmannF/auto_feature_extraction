{
  "nbformat": 4,
  "nbformat_minor": 0,
  "metadata": {
    "kernelspec": {
      "display_name": "Python 3",
      "name": "python3"
    },
    "colab": {
      "name": "Dog_breed_classification_with_DeepFeatX.ipynb",
      "provenance": [],
      "include_colab_link": true
    },
    "accelerator": "GPU"
  },
  "cells": [
    {
      "cell_type": "markdown",
      "metadata": {
        "id": "view-in-github",
        "colab_type": "text"
      },
      "source": [
        "<a href=\"https://colab.research.google.com/github/WittmannF/deepfeatx/blob/master/examples/Dog_breed_classification_with_DeepFeatX.ipynb\" target=\"_parent\"><img src=\"https://colab.research.google.com/assets/colab-badge.svg\" alt=\"Open In Colab\"/></a>"
      ]
    },
    {
      "cell_type": "markdown",
      "metadata": {
        "id": "Vrn0jSWmF_Eb"
      },
      "source": [
        "<a href=\"https://colab.research.google.com/github/WittmannF/deepfeatx/blob/master/examples/Dog_breed_classification_with_DeepFeatX.ipynb\" target=\"_parent\"><img src=\"https://colab.research.google.com/assets/colab-badge.svg\" alt=\"Open In Colab\"/></a>"
      ]
    },
    {
      "cell_type": "code",
      "metadata": {
        "colab": {
          "base_uri": "https://localhost:8080/"
        },
        "id": "wSs8865KF_Ep",
        "outputId": "8206a27c-7350-478b-c0ac-acfd39dfb0a9"
      },
      "source": [
        "!pip install deepfeatx"
      ],
      "execution_count": 1,
      "outputs": [
        {
          "output_type": "stream",
          "text": [
            "Collecting deepfeatx\n",
            "  Downloading https://files.pythonhosted.org/packages/39/98/5253b2407771da6db3b5a552d17afb6094ee40630e7f22f45bb203b98286/deepfeatx-0.1.0b0-py3-none-any.whl\n",
            "Requirement already satisfied: numpy in /usr/local/lib/python3.7/dist-packages (from deepfeatx) (1.19.5)\n",
            "Requirement already satisfied: matplotlib in /usr/local/lib/python3.7/dist-packages (from deepfeatx) (3.2.2)\n",
            "Requirement already satisfied: Pillow in /usr/local/lib/python3.7/dist-packages (from deepfeatx) (7.1.2)\n",
            "Requirement already satisfied: seaborn in /usr/local/lib/python3.7/dist-packages (from deepfeatx) (0.11.1)\n",
            "Requirement already satisfied: scipy in /usr/local/lib/python3.7/dist-packages (from deepfeatx) (1.4.1)\n",
            "Requirement already satisfied: pandas in /usr/local/lib/python3.7/dist-packages (from deepfeatx) (1.1.5)\n",
            "Requirement already satisfied: requests in /usr/local/lib/python3.7/dist-packages (from deepfeatx) (2.23.0)\n",
            "Requirement already satisfied: scikit-learn in /usr/local/lib/python3.7/dist-packages (from deepfeatx) (0.22.2.post1)\n",
            "Requirement already satisfied: tensorflow>=1.14.0 in /usr/local/lib/python3.7/dist-packages (from deepfeatx) (2.5.0)\n",
            "Requirement already satisfied: torchvision>=0.2.2 in /usr/local/lib/python3.7/dist-packages (from deepfeatx) (0.10.0+cu102)\n",
            "Requirement already satisfied: pyparsing!=2.0.4,!=2.1.2,!=2.1.6,>=2.0.1 in /usr/local/lib/python3.7/dist-packages (from matplotlib->deepfeatx) (2.4.7)\n",
            "Requirement already satisfied: python-dateutil>=2.1 in /usr/local/lib/python3.7/dist-packages (from matplotlib->deepfeatx) (2.8.1)\n",
            "Requirement already satisfied: cycler>=0.10 in /usr/local/lib/python3.7/dist-packages (from matplotlib->deepfeatx) (0.10.0)\n",
            "Requirement already satisfied: kiwisolver>=1.0.1 in /usr/local/lib/python3.7/dist-packages (from matplotlib->deepfeatx) (1.3.1)\n",
            "Requirement already satisfied: pytz>=2017.2 in /usr/local/lib/python3.7/dist-packages (from pandas->deepfeatx) (2018.9)\n",
            "Requirement already satisfied: idna<3,>=2.5 in /usr/local/lib/python3.7/dist-packages (from requests->deepfeatx) (2.10)\n",
            "Requirement already satisfied: certifi>=2017.4.17 in /usr/local/lib/python3.7/dist-packages (from requests->deepfeatx) (2021.5.30)\n",
            "Requirement already satisfied: urllib3!=1.25.0,!=1.25.1,<1.26,>=1.21.1 in /usr/local/lib/python3.7/dist-packages (from requests->deepfeatx) (1.24.3)\n",
            "Requirement already satisfied: chardet<4,>=3.0.2 in /usr/local/lib/python3.7/dist-packages (from requests->deepfeatx) (3.0.4)\n",
            "Requirement already satisfied: joblib>=0.11 in /usr/local/lib/python3.7/dist-packages (from scikit-learn->deepfeatx) (1.0.1)\n",
            "Requirement already satisfied: flatbuffers~=1.12.0 in /usr/local/lib/python3.7/dist-packages (from tensorflow>=1.14.0->deepfeatx) (1.12)\n",
            "Requirement already satisfied: termcolor~=1.1.0 in /usr/local/lib/python3.7/dist-packages (from tensorflow>=1.14.0->deepfeatx) (1.1.0)\n",
            "Requirement already satisfied: wrapt~=1.12.1 in /usr/local/lib/python3.7/dist-packages (from tensorflow>=1.14.0->deepfeatx) (1.12.1)\n",
            "Requirement already satisfied: opt-einsum~=3.3.0 in /usr/local/lib/python3.7/dist-packages (from tensorflow>=1.14.0->deepfeatx) (3.3.0)\n",
            "Requirement already satisfied: keras-preprocessing~=1.1.2 in /usr/local/lib/python3.7/dist-packages (from tensorflow>=1.14.0->deepfeatx) (1.1.2)\n",
            "Requirement already satisfied: h5py~=3.1.0 in /usr/local/lib/python3.7/dist-packages (from tensorflow>=1.14.0->deepfeatx) (3.1.0)\n",
            "Requirement already satisfied: google-pasta~=0.2 in /usr/local/lib/python3.7/dist-packages (from tensorflow>=1.14.0->deepfeatx) (0.2.0)\n",
            "Requirement already satisfied: absl-py~=0.10 in /usr/local/lib/python3.7/dist-packages (from tensorflow>=1.14.0->deepfeatx) (0.12.0)\n",
            "Requirement already satisfied: tensorboard~=2.5 in /usr/local/lib/python3.7/dist-packages (from tensorflow>=1.14.0->deepfeatx) (2.5.0)\n",
            "Requirement already satisfied: wheel~=0.35 in /usr/local/lib/python3.7/dist-packages (from tensorflow>=1.14.0->deepfeatx) (0.36.2)\n",
            "Requirement already satisfied: tensorflow-estimator<2.6.0,>=2.5.0rc0 in /usr/local/lib/python3.7/dist-packages (from tensorflow>=1.14.0->deepfeatx) (2.5.0)\n",
            "Requirement already satisfied: typing-extensions~=3.7.4 in /usr/local/lib/python3.7/dist-packages (from tensorflow>=1.14.0->deepfeatx) (3.7.4.3)\n",
            "Requirement already satisfied: gast==0.4.0 in /usr/local/lib/python3.7/dist-packages (from tensorflow>=1.14.0->deepfeatx) (0.4.0)\n",
            "Requirement already satisfied: grpcio~=1.34.0 in /usr/local/lib/python3.7/dist-packages (from tensorflow>=1.14.0->deepfeatx) (1.34.1)\n",
            "Requirement already satisfied: protobuf>=3.9.2 in /usr/local/lib/python3.7/dist-packages (from tensorflow>=1.14.0->deepfeatx) (3.12.4)\n",
            "Requirement already satisfied: six~=1.15.0 in /usr/local/lib/python3.7/dist-packages (from tensorflow>=1.14.0->deepfeatx) (1.15.0)\n",
            "Requirement already satisfied: astunparse~=1.6.3 in /usr/local/lib/python3.7/dist-packages (from tensorflow>=1.14.0->deepfeatx) (1.6.3)\n",
            "Requirement already satisfied: keras-nightly~=2.5.0.dev in /usr/local/lib/python3.7/dist-packages (from tensorflow>=1.14.0->deepfeatx) (2.5.0.dev2021032900)\n",
            "Requirement already satisfied: torch==1.9.0 in /usr/local/lib/python3.7/dist-packages (from torchvision>=0.2.2->deepfeatx) (1.9.0+cu102)\n",
            "Requirement already satisfied: cached-property; python_version < \"3.8\" in /usr/local/lib/python3.7/dist-packages (from h5py~=3.1.0->tensorflow>=1.14.0->deepfeatx) (1.5.2)\n",
            "Requirement already satisfied: werkzeug>=0.11.15 in /usr/local/lib/python3.7/dist-packages (from tensorboard~=2.5->tensorflow>=1.14.0->deepfeatx) (1.0.1)\n",
            "Requirement already satisfied: google-auth-oauthlib<0.5,>=0.4.1 in /usr/local/lib/python3.7/dist-packages (from tensorboard~=2.5->tensorflow>=1.14.0->deepfeatx) (0.4.4)\n",
            "Requirement already satisfied: tensorboard-data-server<0.7.0,>=0.6.0 in /usr/local/lib/python3.7/dist-packages (from tensorboard~=2.5->tensorflow>=1.14.0->deepfeatx) (0.6.1)\n",
            "Requirement already satisfied: tensorboard-plugin-wit>=1.6.0 in /usr/local/lib/python3.7/dist-packages (from tensorboard~=2.5->tensorflow>=1.14.0->deepfeatx) (1.8.0)\n",
            "Requirement already satisfied: google-auth<2,>=1.6.3 in /usr/local/lib/python3.7/dist-packages (from tensorboard~=2.5->tensorflow>=1.14.0->deepfeatx) (1.31.0)\n",
            "Requirement already satisfied: setuptools>=41.0.0 in /usr/local/lib/python3.7/dist-packages (from tensorboard~=2.5->tensorflow>=1.14.0->deepfeatx) (57.0.0)\n",
            "Requirement already satisfied: markdown>=2.6.8 in /usr/local/lib/python3.7/dist-packages (from tensorboard~=2.5->tensorflow>=1.14.0->deepfeatx) (3.3.4)\n",
            "Requirement already satisfied: requests-oauthlib>=0.7.0 in /usr/local/lib/python3.7/dist-packages (from google-auth-oauthlib<0.5,>=0.4.1->tensorboard~=2.5->tensorflow>=1.14.0->deepfeatx) (1.3.0)\n",
            "Requirement already satisfied: cachetools<5.0,>=2.0.0 in /usr/local/lib/python3.7/dist-packages (from google-auth<2,>=1.6.3->tensorboard~=2.5->tensorflow>=1.14.0->deepfeatx) (4.2.2)\n",
            "Requirement already satisfied: rsa<5,>=3.1.4; python_version >= \"3.6\" in /usr/local/lib/python3.7/dist-packages (from google-auth<2,>=1.6.3->tensorboard~=2.5->tensorflow>=1.14.0->deepfeatx) (4.7.2)\n",
            "Requirement already satisfied: pyasn1-modules>=0.2.1 in /usr/local/lib/python3.7/dist-packages (from google-auth<2,>=1.6.3->tensorboard~=2.5->tensorflow>=1.14.0->deepfeatx) (0.2.8)\n",
            "Requirement already satisfied: importlib-metadata; python_version < \"3.8\" in /usr/local/lib/python3.7/dist-packages (from markdown>=2.6.8->tensorboard~=2.5->tensorflow>=1.14.0->deepfeatx) (4.5.0)\n",
            "Requirement already satisfied: oauthlib>=3.0.0 in /usr/local/lib/python3.7/dist-packages (from requests-oauthlib>=0.7.0->google-auth-oauthlib<0.5,>=0.4.1->tensorboard~=2.5->tensorflow>=1.14.0->deepfeatx) (3.1.1)\n",
            "Requirement already satisfied: pyasn1>=0.1.3 in /usr/local/lib/python3.7/dist-packages (from rsa<5,>=3.1.4; python_version >= \"3.6\"->google-auth<2,>=1.6.3->tensorboard~=2.5->tensorflow>=1.14.0->deepfeatx) (0.4.8)\n",
            "Requirement already satisfied: zipp>=0.5 in /usr/local/lib/python3.7/dist-packages (from importlib-metadata; python_version < \"3.8\"->markdown>=2.6.8->tensorboard~=2.5->tensorflow>=1.14.0->deepfeatx) (3.4.1)\n",
            "Installing collected packages: deepfeatx\n",
            "Successfully installed deepfeatx-0.1.0b0\n"
          ],
          "name": "stdout"
        }
      ]
    },
    {
      "cell_type": "code",
      "metadata": {
        "id": "FBLvMjl1F_Eu"
      },
      "source": [
        "from deepfeatx.image import ImageFeatureExtractor, download_dataset"
      ],
      "execution_count": 2,
      "outputs": []
    },
    {
      "cell_type": "code",
      "metadata": {
        "colab": {
          "base_uri": "https://localhost:8080/"
        },
        "id": "Yo-YjvhbF_Eu",
        "outputId": "b487d88b-74f4-4229-9b12-2faec317f403"
      },
      "source": [
        "download_dataset('https://s3.amazonaws.com/fast-ai-imageclas/imagewoof2-320.tgz', 'imagewoof2-320.tgz')"
      ],
      "execution_count": 3,
      "outputs": [
        {
          "output_type": "stream",
          "text": [
            "Downloading Dataset...\n",
            "Unzipping Dataset\n",
            "Removing .zip file\n"
          ],
          "name": "stdout"
        }
      ]
    },
    {
      "cell_type": "code",
      "metadata": {
        "colab": {
          "base_uri": "https://localhost:8080/"
        },
        "id": "vEWffmw0F_Ey",
        "outputId": "be839554-88f3-486f-c95c-1ee76a3ca91b"
      },
      "source": [
        "fe = ImageFeatureExtractor()"
      ],
      "execution_count": 4,
      "outputs": [
        {
          "output_type": "stream",
          "text": [
            "Downloading data from https://storage.googleapis.com/tensorflow/keras-applications/resnet/resnet50_weights_tf_dim_ordering_tf_kernels_notop.h5\n",
            "94773248/94765736 [==============================] - 1s 0us/step\n"
          ],
          "name": "stdout"
        }
      ]
    },
    {
      "cell_type": "code",
      "metadata": {
        "colab": {
          "base_uri": "https://localhost:8080/"
        },
        "id": "SWKmQPacF_E1",
        "outputId": "c01f8a52-0f82-4885-d75e-59fe557e3060"
      },
      "source": [
        "train=fe.extract_features_from_directory('/content/imagewoof2-320/train', \n",
        "                                   export_class_names=True)"
      ],
      "execution_count": 7,
      "outputs": [
        {
          "output_type": "stream",
          "text": [
            "Found 9025 images belonging to 10 classes.\n",
            "283/283 [==============================] - 62s 111ms/step\n"
          ],
          "name": "stdout"
        }
      ]
    },
    {
      "cell_type": "code",
      "metadata": {
        "colab": {
          "base_uri": "https://localhost:8080/"
        },
        "id": "Mmx6g0WSF_E9",
        "outputId": "3463308a-536e-46fe-9768-4211ab0b3975"
      },
      "source": [
        "test=fe.extract_features_from_directory('/content/imagewoof2-320/val', \n",
        "                                   export_class_names=True)"
      ],
      "execution_count": 9,
      "outputs": [
        {
          "output_type": "stream",
          "text": [
            "Found 3929 images belonging to 10 classes.\n",
            "123/123 [==============================] - 14s 114ms/step\n"
          ],
          "name": "stdout"
        }
      ]
    },
    {
      "cell_type": "code",
      "metadata": {
        "colab": {
          "base_uri": "https://localhost:8080/",
          "height": 338
        },
        "id": "ULXxjLF-F_E_",
        "outputId": "241d62ab-f32c-4eeb-f0ca-55b1365f26bf"
      },
      "source": [
        "train.head()"
      ],
      "execution_count": 10,
      "outputs": [
        {
          "output_type": "execute_result",
          "data": {
            "text/html": [
              "<div>\n",
              "<style scoped>\n",
              "    .dataframe tbody tr th:only-of-type {\n",
              "        vertical-align: middle;\n",
              "    }\n",
              "\n",
              "    .dataframe tbody tr th {\n",
              "        vertical-align: top;\n",
              "    }\n",
              "\n",
              "    .dataframe thead th {\n",
              "        text-align: right;\n",
              "    }\n",
              "</style>\n",
              "<table border=\"1\" class=\"dataframe\">\n",
              "  <thead>\n",
              "    <tr style=\"text-align: right;\">\n",
              "      <th></th>\n",
              "      <th>filepaths</th>\n",
              "      <th>classes</th>\n",
              "      <th>0</th>\n",
              "      <th>1</th>\n",
              "      <th>2</th>\n",
              "      <th>3</th>\n",
              "      <th>4</th>\n",
              "      <th>5</th>\n",
              "      <th>6</th>\n",
              "      <th>7</th>\n",
              "      <th>8</th>\n",
              "      <th>9</th>\n",
              "      <th>10</th>\n",
              "      <th>11</th>\n",
              "      <th>12</th>\n",
              "      <th>13</th>\n",
              "      <th>14</th>\n",
              "      <th>15</th>\n",
              "      <th>16</th>\n",
              "      <th>17</th>\n",
              "      <th>18</th>\n",
              "      <th>19</th>\n",
              "      <th>20</th>\n",
              "      <th>21</th>\n",
              "      <th>22</th>\n",
              "      <th>23</th>\n",
              "      <th>24</th>\n",
              "      <th>25</th>\n",
              "      <th>26</th>\n",
              "      <th>27</th>\n",
              "      <th>28</th>\n",
              "      <th>29</th>\n",
              "      <th>30</th>\n",
              "      <th>31</th>\n",
              "      <th>32</th>\n",
              "      <th>33</th>\n",
              "      <th>34</th>\n",
              "      <th>35</th>\n",
              "      <th>36</th>\n",
              "      <th>37</th>\n",
              "      <th>...</th>\n",
              "      <th>2008</th>\n",
              "      <th>2009</th>\n",
              "      <th>2010</th>\n",
              "      <th>2011</th>\n",
              "      <th>2012</th>\n",
              "      <th>2013</th>\n",
              "      <th>2014</th>\n",
              "      <th>2015</th>\n",
              "      <th>2016</th>\n",
              "      <th>2017</th>\n",
              "      <th>2018</th>\n",
              "      <th>2019</th>\n",
              "      <th>2020</th>\n",
              "      <th>2021</th>\n",
              "      <th>2022</th>\n",
              "      <th>2023</th>\n",
              "      <th>2024</th>\n",
              "      <th>2025</th>\n",
              "      <th>2026</th>\n",
              "      <th>2027</th>\n",
              "      <th>2028</th>\n",
              "      <th>2029</th>\n",
              "      <th>2030</th>\n",
              "      <th>2031</th>\n",
              "      <th>2032</th>\n",
              "      <th>2033</th>\n",
              "      <th>2034</th>\n",
              "      <th>2035</th>\n",
              "      <th>2036</th>\n",
              "      <th>2037</th>\n",
              "      <th>2038</th>\n",
              "      <th>2039</th>\n",
              "      <th>2040</th>\n",
              "      <th>2041</th>\n",
              "      <th>2042</th>\n",
              "      <th>2043</th>\n",
              "      <th>2044</th>\n",
              "      <th>2045</th>\n",
              "      <th>2046</th>\n",
              "      <th>2047</th>\n",
              "    </tr>\n",
              "  </thead>\n",
              "  <tbody>\n",
              "    <tr>\n",
              "      <th>0</th>\n",
              "      <td>/content/imagewoof2-320/train/n02086240/ILSVRC...</td>\n",
              "      <td>n02086240</td>\n",
              "      <td>0.237845</td>\n",
              "      <td>0.054449</td>\n",
              "      <td>0.639398</td>\n",
              "      <td>0.608614</td>\n",
              "      <td>0.116546</td>\n",
              "      <td>0.000000</td>\n",
              "      <td>0.264914</td>\n",
              "      <td>0.527812</td>\n",
              "      <td>0.553124</td>\n",
              "      <td>0.062423</td>\n",
              "      <td>0.597321</td>\n",
              "      <td>0.551996</td>\n",
              "      <td>1.538061</td>\n",
              "      <td>0.087229</td>\n",
              "      <td>0.069904</td>\n",
              "      <td>1.049715</td>\n",
              "      <td>0.000000</td>\n",
              "      <td>0.000000</td>\n",
              "      <td>0.312019</td>\n",
              "      <td>0.000000</td>\n",
              "      <td>0.096074</td>\n",
              "      <td>0.000000</td>\n",
              "      <td>0.106391</td>\n",
              "      <td>0.166413</td>\n",
              "      <td>0.115637</td>\n",
              "      <td>0.416664</td>\n",
              "      <td>0.276402</td>\n",
              "      <td>0.525719</td>\n",
              "      <td>0.022979</td>\n",
              "      <td>0.026009</td>\n",
              "      <td>0.373636</td>\n",
              "      <td>3.121359</td>\n",
              "      <td>0.000000</td>\n",
              "      <td>0.015317</td>\n",
              "      <td>0.195801</td>\n",
              "      <td>0.199855</td>\n",
              "      <td>0.000000</td>\n",
              "      <td>0.078722</td>\n",
              "      <td>...</td>\n",
              "      <td>0.547258</td>\n",
              "      <td>0.009756</td>\n",
              "      <td>0.006679</td>\n",
              "      <td>0.073260</td>\n",
              "      <td>1.249754</td>\n",
              "      <td>0.009313</td>\n",
              "      <td>0.519783</td>\n",
              "      <td>0.475807</td>\n",
              "      <td>0.118590</td>\n",
              "      <td>0.075504</td>\n",
              "      <td>0.065688</td>\n",
              "      <td>0.062871</td>\n",
              "      <td>0.376480</td>\n",
              "      <td>0.223952</td>\n",
              "      <td>0.458716</td>\n",
              "      <td>0.267855</td>\n",
              "      <td>0.061917</td>\n",
              "      <td>0.095909</td>\n",
              "      <td>0.101484</td>\n",
              "      <td>0.806830</td>\n",
              "      <td>0.107143</td>\n",
              "      <td>0.574431</td>\n",
              "      <td>0.245828</td>\n",
              "      <td>0.810530</td>\n",
              "      <td>0.000000</td>\n",
              "      <td>0.415151</td>\n",
              "      <td>5.213042</td>\n",
              "      <td>0.231660</td>\n",
              "      <td>1.928581</td>\n",
              "      <td>0.011685</td>\n",
              "      <td>0.686305</td>\n",
              "      <td>0.953840</td>\n",
              "      <td>0.060106</td>\n",
              "      <td>0.043869</td>\n",
              "      <td>0.314363</td>\n",
              "      <td>0.145456</td>\n",
              "      <td>0.588394</td>\n",
              "      <td>2.882940</td>\n",
              "      <td>1.296058</td>\n",
              "      <td>0.023957</td>\n",
              "    </tr>\n",
              "    <tr>\n",
              "      <th>1</th>\n",
              "      <td>/content/imagewoof2-320/train/n02086240/ILSVRC...</td>\n",
              "      <td>n02086240</td>\n",
              "      <td>0.098519</td>\n",
              "      <td>0.446051</td>\n",
              "      <td>0.104642</td>\n",
              "      <td>0.572953</td>\n",
              "      <td>0.010212</td>\n",
              "      <td>0.000000</td>\n",
              "      <td>0.000000</td>\n",
              "      <td>0.032277</td>\n",
              "      <td>0.364384</td>\n",
              "      <td>0.022811</td>\n",
              "      <td>0.851167</td>\n",
              "      <td>0.215407</td>\n",
              "      <td>0.369764</td>\n",
              "      <td>0.032217</td>\n",
              "      <td>0.102466</td>\n",
              "      <td>0.232351</td>\n",
              "      <td>0.200081</td>\n",
              "      <td>0.170827</td>\n",
              "      <td>0.236796</td>\n",
              "      <td>0.257146</td>\n",
              "      <td>1.002329</td>\n",
              "      <td>0.336417</td>\n",
              "      <td>0.043349</td>\n",
              "      <td>0.706191</td>\n",
              "      <td>0.201475</td>\n",
              "      <td>0.952862</td>\n",
              "      <td>0.156129</td>\n",
              "      <td>0.123323</td>\n",
              "      <td>0.000000</td>\n",
              "      <td>0.223462</td>\n",
              "      <td>0.283753</td>\n",
              "      <td>0.952409</td>\n",
              "      <td>0.004923</td>\n",
              "      <td>0.069859</td>\n",
              "      <td>0.626158</td>\n",
              "      <td>0.471083</td>\n",
              "      <td>0.020237</td>\n",
              "      <td>0.512703</td>\n",
              "      <td>...</td>\n",
              "      <td>0.272989</td>\n",
              "      <td>0.095123</td>\n",
              "      <td>0.008910</td>\n",
              "      <td>0.024075</td>\n",
              "      <td>2.383113</td>\n",
              "      <td>0.000000</td>\n",
              "      <td>0.046067</td>\n",
              "      <td>0.349721</td>\n",
              "      <td>0.054029</td>\n",
              "      <td>0.048794</td>\n",
              "      <td>0.036727</td>\n",
              "      <td>0.000000</td>\n",
              "      <td>0.057985</td>\n",
              "      <td>0.179272</td>\n",
              "      <td>0.086077</td>\n",
              "      <td>0.278433</td>\n",
              "      <td>0.148272</td>\n",
              "      <td>0.396515</td>\n",
              "      <td>0.150998</td>\n",
              "      <td>3.072362</td>\n",
              "      <td>0.136671</td>\n",
              "      <td>0.040337</td>\n",
              "      <td>0.197968</td>\n",
              "      <td>2.161976</td>\n",
              "      <td>0.687705</td>\n",
              "      <td>1.443423</td>\n",
              "      <td>1.804903</td>\n",
              "      <td>0.066075</td>\n",
              "      <td>0.000000</td>\n",
              "      <td>0.152277</td>\n",
              "      <td>0.317681</td>\n",
              "      <td>0.332945</td>\n",
              "      <td>0.112509</td>\n",
              "      <td>0.000000</td>\n",
              "      <td>0.491454</td>\n",
              "      <td>0.176205</td>\n",
              "      <td>0.505274</td>\n",
              "      <td>0.307415</td>\n",
              "      <td>0.084352</td>\n",
              "      <td>0.317230</td>\n",
              "    </tr>\n",
              "    <tr>\n",
              "      <th>2</th>\n",
              "      <td>/content/imagewoof2-320/train/n02086240/ILSVRC...</td>\n",
              "      <td>n02086240</td>\n",
              "      <td>0.042899</td>\n",
              "      <td>0.462631</td>\n",
              "      <td>0.307303</td>\n",
              "      <td>0.168507</td>\n",
              "      <td>0.162288</td>\n",
              "      <td>0.016635</td>\n",
              "      <td>0.086794</td>\n",
              "      <td>0.595419</td>\n",
              "      <td>0.227666</td>\n",
              "      <td>0.411554</td>\n",
              "      <td>0.415609</td>\n",
              "      <td>0.084814</td>\n",
              "      <td>2.203583</td>\n",
              "      <td>0.439542</td>\n",
              "      <td>0.000000</td>\n",
              "      <td>0.147977</td>\n",
              "      <td>0.154586</td>\n",
              "      <td>0.033313</td>\n",
              "      <td>0.253764</td>\n",
              "      <td>0.174549</td>\n",
              "      <td>0.422747</td>\n",
              "      <td>0.959233</td>\n",
              "      <td>0.049451</td>\n",
              "      <td>0.301477</td>\n",
              "      <td>0.530905</td>\n",
              "      <td>0.152111</td>\n",
              "      <td>0.489868</td>\n",
              "      <td>2.518495</td>\n",
              "      <td>0.093235</td>\n",
              "      <td>0.488826</td>\n",
              "      <td>2.110900</td>\n",
              "      <td>0.979839</td>\n",
              "      <td>0.000000</td>\n",
              "      <td>0.426521</td>\n",
              "      <td>0.059574</td>\n",
              "      <td>0.539610</td>\n",
              "      <td>1.030922</td>\n",
              "      <td>0.126679</td>\n",
              "      <td>...</td>\n",
              "      <td>2.341559</td>\n",
              "      <td>0.127301</td>\n",
              "      <td>0.065649</td>\n",
              "      <td>0.098754</td>\n",
              "      <td>1.101452</td>\n",
              "      <td>0.000000</td>\n",
              "      <td>0.368400</td>\n",
              "      <td>0.424990</td>\n",
              "      <td>0.266960</td>\n",
              "      <td>0.219647</td>\n",
              "      <td>0.000000</td>\n",
              "      <td>0.029018</td>\n",
              "      <td>0.075970</td>\n",
              "      <td>0.316570</td>\n",
              "      <td>1.495570</td>\n",
              "      <td>1.294256</td>\n",
              "      <td>0.093778</td>\n",
              "      <td>0.105542</td>\n",
              "      <td>0.202621</td>\n",
              "      <td>0.567007</td>\n",
              "      <td>0.440337</td>\n",
              "      <td>0.703574</td>\n",
              "      <td>0.000000</td>\n",
              "      <td>1.422830</td>\n",
              "      <td>0.137512</td>\n",
              "      <td>0.625614</td>\n",
              "      <td>0.755017</td>\n",
              "      <td>0.652728</td>\n",
              "      <td>0.373953</td>\n",
              "      <td>0.197014</td>\n",
              "      <td>0.330072</td>\n",
              "      <td>1.604431</td>\n",
              "      <td>0.000000</td>\n",
              "      <td>0.194533</td>\n",
              "      <td>0.830743</td>\n",
              "      <td>0.484784</td>\n",
              "      <td>0.109601</td>\n",
              "      <td>0.332197</td>\n",
              "      <td>1.053381</td>\n",
              "      <td>0.656769</td>\n",
              "    </tr>\n",
              "    <tr>\n",
              "      <th>3</th>\n",
              "      <td>/content/imagewoof2-320/train/n02086240/ILSVRC...</td>\n",
              "      <td>n02086240</td>\n",
              "      <td>0.995890</td>\n",
              "      <td>1.223787</td>\n",
              "      <td>0.000000</td>\n",
              "      <td>0.225155</td>\n",
              "      <td>0.155999</td>\n",
              "      <td>0.000000</td>\n",
              "      <td>0.088663</td>\n",
              "      <td>0.512846</td>\n",
              "      <td>0.747479</td>\n",
              "      <td>1.910071</td>\n",
              "      <td>1.523303</td>\n",
              "      <td>0.259708</td>\n",
              "      <td>0.302773</td>\n",
              "      <td>1.777450</td>\n",
              "      <td>0.108519</td>\n",
              "      <td>0.720494</td>\n",
              "      <td>0.023327</td>\n",
              "      <td>0.146358</td>\n",
              "      <td>0.030966</td>\n",
              "      <td>0.612604</td>\n",
              "      <td>0.586515</td>\n",
              "      <td>0.051505</td>\n",
              "      <td>0.000000</td>\n",
              "      <td>1.680931</td>\n",
              "      <td>0.373287</td>\n",
              "      <td>0.376472</td>\n",
              "      <td>0.031024</td>\n",
              "      <td>0.286191</td>\n",
              "      <td>0.183716</td>\n",
              "      <td>0.543623</td>\n",
              "      <td>0.317284</td>\n",
              "      <td>1.391958</td>\n",
              "      <td>0.087894</td>\n",
              "      <td>0.291456</td>\n",
              "      <td>0.045670</td>\n",
              "      <td>0.368556</td>\n",
              "      <td>0.000000</td>\n",
              "      <td>3.115644</td>\n",
              "      <td>...</td>\n",
              "      <td>1.638180</td>\n",
              "      <td>0.109766</td>\n",
              "      <td>0.138232</td>\n",
              "      <td>0.664712</td>\n",
              "      <td>2.249068</td>\n",
              "      <td>0.000000</td>\n",
              "      <td>0.819377</td>\n",
              "      <td>3.061124</td>\n",
              "      <td>0.594290</td>\n",
              "      <td>0.306803</td>\n",
              "      <td>0.395688</td>\n",
              "      <td>0.046212</td>\n",
              "      <td>0.453133</td>\n",
              "      <td>0.300496</td>\n",
              "      <td>0.005648</td>\n",
              "      <td>0.128573</td>\n",
              "      <td>0.557720</td>\n",
              "      <td>0.700672</td>\n",
              "      <td>0.301622</td>\n",
              "      <td>0.323962</td>\n",
              "      <td>0.217511</td>\n",
              "      <td>0.084177</td>\n",
              "      <td>1.783375</td>\n",
              "      <td>0.122127</td>\n",
              "      <td>0.191053</td>\n",
              "      <td>0.015811</td>\n",
              "      <td>0.339180</td>\n",
              "      <td>0.037708</td>\n",
              "      <td>0.035558</td>\n",
              "      <td>0.219690</td>\n",
              "      <td>0.077680</td>\n",
              "      <td>0.098828</td>\n",
              "      <td>0.670180</td>\n",
              "      <td>0.107996</td>\n",
              "      <td>0.357463</td>\n",
              "      <td>0.069244</td>\n",
              "      <td>0.635836</td>\n",
              "      <td>0.319765</td>\n",
              "      <td>0.083779</td>\n",
              "      <td>0.006741</td>\n",
              "    </tr>\n",
              "    <tr>\n",
              "      <th>4</th>\n",
              "      <td>/content/imagewoof2-320/train/n02086240/ILSVRC...</td>\n",
              "      <td>n02086240</td>\n",
              "      <td>0.148128</td>\n",
              "      <td>0.343829</td>\n",
              "      <td>0.031656</td>\n",
              "      <td>1.713620</td>\n",
              "      <td>0.411024</td>\n",
              "      <td>0.583673</td>\n",
              "      <td>0.823804</td>\n",
              "      <td>0.620119</td>\n",
              "      <td>0.399716</td>\n",
              "      <td>2.831096</td>\n",
              "      <td>1.567335</td>\n",
              "      <td>1.712841</td>\n",
              "      <td>1.794274</td>\n",
              "      <td>0.104329</td>\n",
              "      <td>0.185082</td>\n",
              "      <td>1.817560</td>\n",
              "      <td>0.175428</td>\n",
              "      <td>1.377390</td>\n",
              "      <td>0.016865</td>\n",
              "      <td>0.241857</td>\n",
              "      <td>0.481733</td>\n",
              "      <td>1.107601</td>\n",
              "      <td>0.118503</td>\n",
              "      <td>0.606752</td>\n",
              "      <td>1.209958</td>\n",
              "      <td>0.221548</td>\n",
              "      <td>0.004559</td>\n",
              "      <td>0.760129</td>\n",
              "      <td>0.107104</td>\n",
              "      <td>0.000000</td>\n",
              "      <td>0.990005</td>\n",
              "      <td>1.076877</td>\n",
              "      <td>0.112424</td>\n",
              "      <td>1.395805</td>\n",
              "      <td>0.574225</td>\n",
              "      <td>0.061291</td>\n",
              "      <td>1.364172</td>\n",
              "      <td>0.310678</td>\n",
              "      <td>...</td>\n",
              "      <td>2.438493</td>\n",
              "      <td>0.022687</td>\n",
              "      <td>0.582455</td>\n",
              "      <td>0.000000</td>\n",
              "      <td>1.516478</td>\n",
              "      <td>0.000000</td>\n",
              "      <td>0.148483</td>\n",
              "      <td>0.432429</td>\n",
              "      <td>0.555153</td>\n",
              "      <td>0.154244</td>\n",
              "      <td>0.753457</td>\n",
              "      <td>0.173385</td>\n",
              "      <td>0.024658</td>\n",
              "      <td>0.199363</td>\n",
              "      <td>1.912385</td>\n",
              "      <td>1.102003</td>\n",
              "      <td>0.610884</td>\n",
              "      <td>0.355156</td>\n",
              "      <td>0.635574</td>\n",
              "      <td>1.659739</td>\n",
              "      <td>1.389743</td>\n",
              "      <td>0.060008</td>\n",
              "      <td>3.911137</td>\n",
              "      <td>0.451659</td>\n",
              "      <td>0.964657</td>\n",
              "      <td>0.210287</td>\n",
              "      <td>3.672231</td>\n",
              "      <td>0.387194</td>\n",
              "      <td>0.267078</td>\n",
              "      <td>0.055421</td>\n",
              "      <td>2.126719</td>\n",
              "      <td>1.002208</td>\n",
              "      <td>0.832634</td>\n",
              "      <td>1.448995</td>\n",
              "      <td>0.915079</td>\n",
              "      <td>0.227604</td>\n",
              "      <td>0.576532</td>\n",
              "      <td>0.200234</td>\n",
              "      <td>0.401599</td>\n",
              "      <td>0.123951</td>\n",
              "    </tr>\n",
              "  </tbody>\n",
              "</table>\n",
              "<p>5 rows × 2050 columns</p>\n",
              "</div>"
            ],
            "text/plain": [
              "                                           filepaths  ...      2047\n",
              "0  /content/imagewoof2-320/train/n02086240/ILSVRC...  ...  0.023957\n",
              "1  /content/imagewoof2-320/train/n02086240/ILSVRC...  ...  0.317230\n",
              "2  /content/imagewoof2-320/train/n02086240/ILSVRC...  ...  0.656769\n",
              "3  /content/imagewoof2-320/train/n02086240/ILSVRC...  ...  0.006741\n",
              "4  /content/imagewoof2-320/train/n02086240/ILSVRC...  ...  0.123951\n",
              "\n",
              "[5 rows x 2050 columns]"
            ]
          },
          "metadata": {
            "tags": []
          },
          "execution_count": 10
        }
      ]
    },
    {
      "cell_type": "code",
      "metadata": {
        "id": "Iew6Nf7EF_FE"
      },
      "source": [
        "from sklearn.linear_model import LogisticRegression"
      ],
      "execution_count": 11,
      "outputs": []
    },
    {
      "cell_type": "code",
      "metadata": {
        "id": "Lcd7vKf6F_FG"
      },
      "source": [
        "X_train, y_train = train.drop(['filepaths', 'classes'], axis=1), train['classes']\n",
        "X_test, y_test = test.drop(['filepaths', 'classes'], axis=1), test['classes']"
      ],
      "execution_count": 12,
      "outputs": []
    },
    {
      "cell_type": "code",
      "metadata": {
        "colab": {
          "base_uri": "https://localhost:8080/"
        },
        "id": "4es1paPPF_FI",
        "outputId": "c6c0245f-61da-4900-e76e-e3aa7aff232b"
      },
      "source": [
        "lr = LogisticRegression().fit(X_train, y_train)"
      ],
      "execution_count": 13,
      "outputs": [
        {
          "output_type": "stream",
          "text": [
            "/usr/local/lib/python3.7/dist-packages/sklearn/linear_model/_logistic.py:940: ConvergenceWarning: lbfgs failed to converge (status=1):\n",
            "STOP: TOTAL NO. of ITERATIONS REACHED LIMIT.\n",
            "\n",
            "Increase the number of iterations (max_iter) or scale the data as shown in:\n",
            "    https://scikit-learn.org/stable/modules/preprocessing.html\n",
            "Please also refer to the documentation for alternative solver options:\n",
            "    https://scikit-learn.org/stable/modules/linear_model.html#logistic-regression\n",
            "  extra_warning_msg=_LOGISTIC_SOLVER_CONVERGENCE_MSG)\n"
          ],
          "name": "stderr"
        }
      ]
    },
    {
      "cell_type": "code",
      "metadata": {
        "colab": {
          "base_uri": "https://localhost:8080/"
        },
        "id": "nOfYvMaJF_FO",
        "outputId": "893ac642-bd4c-45b1-a052-110c000a116d"
      },
      "source": [
        "lr.score(X_test, y_test)"
      ],
      "execution_count": 14,
      "outputs": [
        {
          "output_type": "execute_result",
          "data": {
            "text/plain": [
              "0.9417154492237211"
            ]
          },
          "metadata": {
            "tags": []
          },
          "execution_count": 14
        }
      ]
    },
    {
      "cell_type": "code",
      "metadata": {
        "colab": {
          "base_uri": "https://localhost:8080/"
        },
        "id": "HZRS4ItHF_FP",
        "outputId": "1d43d2b7-fc77-474f-8b6d-442971bf8a77"
      },
      "source": [
        "from sklearn.metrics import roc_auc_score, classification_report, confusion_matrix\n",
        "roc_auc_score(y_test, lr.predict_proba(X_test), multi_class='ovr')"
      ],
      "execution_count": 15,
      "outputs": [
        {
          "output_type": "execute_result",
          "data": {
            "text/plain": [
              "0.9971883481134723"
            ]
          },
          "metadata": {
            "tags": []
          },
          "execution_count": 15
        }
      ]
    },
    {
      "cell_type": "code",
      "metadata": {
        "colab": {
          "base_uri": "https://localhost:8080/"
        },
        "id": "qY9l8Uf6F_FQ",
        "outputId": "3e4dea62-c037-4500-cb7b-4e304e9fb2df"
      },
      "source": [
        "print(classification_report(y_test, lr.predict(X_test)))"
      ],
      "execution_count": 16,
      "outputs": [
        {
          "output_type": "stream",
          "text": [
            "              precision    recall  f1-score   support\n",
            "\n",
            "   n02086240       0.95      0.94      0.94       409\n",
            "   n02087394       0.95      0.96      0.95       408\n",
            "   n02088364       0.91      0.92      0.91       418\n",
            "   n02089973       0.87      0.83      0.85       224\n",
            "   n02093754       0.94      0.95      0.95       401\n",
            "   n02096294       0.96      0.92      0.94       407\n",
            "   n02099601       0.92      0.96      0.94       401\n",
            "   n02105641       0.97      0.98      0.97       422\n",
            "   n02111889       0.98      0.98      0.98       429\n",
            "   n02115641       0.94      0.94      0.94       410\n",
            "\n",
            "    accuracy                           0.94      3929\n",
            "   macro avg       0.94      0.94      0.94      3929\n",
            "weighted avg       0.94      0.94      0.94      3929\n",
            "\n"
          ],
          "name": "stdout"
        }
      ]
    },
    {
      "cell_type": "code",
      "metadata": {
        "colab": {
          "base_uri": "https://localhost:8080/",
          "height": 282
        },
        "id": "q4GomYlPF_FV",
        "outputId": "b737812a-3373-41b3-c6b0-3630b3f4c0eb"
      },
      "source": [
        "import seaborn as sns\n",
        "cm=confusion_matrix(y_test, lr.predict(X_test))\n",
        "sns.heatmap(cm, annot=True, fmt='g')"
      ],
      "execution_count": 17,
      "outputs": [
        {
          "output_type": "execute_result",
          "data": {
            "text/plain": [
              "<matplotlib.axes._subplots.AxesSubplot at 0x7f9ee1a6f2d0>"
            ]
          },
          "metadata": {
            "tags": []
          },
          "execution_count": 17
        },
        {
          "output_type": "display_data",
          "data": {
            "image/png": "[encoded data removed]",
            "text/plain": [
              "<Figure size 432x288 with 2 Axes>"
            ]
          },
          "metadata": {
            "tags": [],
            "needs_background": "light"
          }
        }
      ]
    },
    {
      "cell_type": "code",
      "metadata": {
        "id": "UXdcNhp5F_FW"
      },
      "source": [
        ""
      ],
      "execution_count": 17,
      "outputs": []
    }
  ]
}